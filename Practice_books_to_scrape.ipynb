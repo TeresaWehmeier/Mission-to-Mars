{
 "cells": [
  {
   "cell_type": "code",
   "execution_count": 12,
   "id": "be3e4dcb",
   "metadata": {},
   "outputs": [],
   "source": [
    "from splinter import Browser\n",
    "from bs4 import BeautifulSoup as soup\n",
    "from webdriver_manager.chrome import ChromeDriverManager"
   ]
  },
  {
   "cell_type": "code",
   "execution_count": 2,
   "id": "e61f9e6f",
   "metadata": {},
   "outputs": [
    {
     "name": "stderr",
     "output_type": "stream",
     "text": [
      "\n",
      "\n",
      "====== WebDriver manager ======\n",
      "Current google-chrome version is 96.0.4664\n",
      "Get LATEST chromedriver version for 96.0.4664 google-chrome\n",
      "There is no [win32] chromedriver for browser  in cache\n",
      "Trying to download new driver from https://chromedriver.storage.googleapis.com/96.0.4664.45/chromedriver_win32.zip\n",
      "Driver has been saved in cache [C:\\Users\\Teresa\\.wdm\\drivers\\chromedriver\\win32\\96.0.4664.45]\n"
     ]
    }
   ],
   "source": [
    "# Setup Splinter\n",
    "executable_path = {'executable_path': ChromeDriverManager().install()}\n"
   ]
  },
  {
   "cell_type": "code",
   "execution_count": 3,
   "id": "4db5cfdd",
   "metadata": {},
   "outputs": [],
   "source": [
    "browser = Browser('chrome', **executable_path, headless=False)"
   ]
  },
  {
   "cell_type": "code",
   "execution_count": 13,
   "id": "61c80851",
   "metadata": {},
   "outputs": [],
   "source": [
    "# Visits the Quotes to Scrape site\n",
    "url = 'http://books.toscrape.com/'\n",
    "browser.visit(url)"
   ]
  },
  {
   "cell_type": "code",
   "execution_count": 14,
   "id": "fe990a79",
   "metadata": {},
   "outputs": [],
   "source": [
    "# Parse the HTML\n",
    "html = browser.html\n",
    "html_soup = soup(html, 'html.parser')"
   ]
  },
  {
   "cell_type": "code",
   "execution_count": 25,
   "id": "a78a6398",
   "metadata": {},
   "outputs": [],
   "source": [
    "# Scrape the book URl's from the first page\n",
    "title = html_soup.find('ul', class_='nav-list').text\n",
    "title"
   ]
  },
  {
   "cell_type": "code",
   "execution_count": 11,
   "id": "ec1660f9",
   "metadata": {},
   "outputs": [
    {
     "name": "stdout",
     "output_type": "stream",
     "text": [
      "love\n",
      "inspirational\n",
      "life\n",
      "humor\n",
      "books\n",
      "reading\n",
      "friendship\n",
      "friends\n",
      "truth\n",
      "simile\n"
     ]
    }
   ],
   "source": [
    "# Scrape the top ten tags\n",
    "tag_box = html_soup.find('div', class_='tags-box')\n",
    "\n",
    "# tag_box\n",
    "tags = tag_box.find_all('a', class_='tag')\n",
    "\n",
    "for tag in tags:\n",
    "    word = tag.text\n",
    "    print(word)"
   ]
  },
  {
   "cell_type": "code",
   "execution_count": null,
   "id": "f0f8e023",
   "metadata": {},
   "outputs": [],
   "source": [
    "for x in range(1,6):\n",
    "    html = browser.html\n",
    "    quote_soup = soup(html, 'html.parser')\n",
    "    quotes = quote_soup.find_all('span', class_='text')\n",
    "    for quote in quotes:\n",
    "        print('page:', x, '----------------------')\n",
    "        print(quote.text)\n",
    "    browser.links.find_by_partial_text('Next').click()\n",
    "    "
   ]
  },
  {
   "cell_type": "code",
   "execution_count": 26,
   "id": "dc4eadfe",
   "metadata": {},
   "outputs": [],
   "source": [
    "browser.quit()"
   ]
  },
  {
   "cell_type": "code",
   "execution_count": null,
   "id": "c0006cf7",
   "metadata": {},
   "outputs": [],
   "source": []
  }
 ],
 "metadata": {
  "kernelspec": {
   "display_name": "PythonData",
   "language": "python",
   "name": "pythondata"
  },
  "language_info": {
   "codemirror_mode": {
    "name": "ipython",
    "version": 3
   },
   "file_extension": ".py",
   "mimetype": "text/x-python",
   "name": "python",
   "nbconvert_exporter": "python",
   "pygments_lexer": "ipython3",
   "version": "3.7.11"
  }
 },
 "nbformat": 4,
 "nbformat_minor": 5
}
